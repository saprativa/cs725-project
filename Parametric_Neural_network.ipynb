{
 "cells": [
  {
   "cell_type": "code",
   "execution_count": 1,
   "metadata": {},
   "outputs": [],
   "source": [
    "import numpy as np"
   ]
  },
  {
   "cell_type": "code",
   "execution_count": 20,
   "metadata": {},
   "outputs": [
    {
     "name": "stdout",
     "output_type": "stream",
     "text": [
      "(3, 2)\n",
      "(3, 2)\n",
      "(3, 2)\n",
      "(3, 2)\n",
      "(3, 2)\n",
      "(3, 2)\n",
      "(3, 2)\n",
      "(3, 2)\n",
      "(3, 2)\n",
      "(3, 2)\n"
     ]
    }
   ],
   "source": [
    "def sigmoid(Z):\n",
    "    return 1/(1+np.exp(-Z))\n",
    "def f(W,x,layers):\n",
    "    a=x\n",
    "    for l in range(layers-1):\n",
    "        w = W[l];\n",
    "        #print(w.shape)\n",
    "        a = sigmoid(np.matmul(np.transpose(w),a))\n",
    "    #print('a value before last layer:',a)\n",
    "    a = sigmoid(W[layers-1,0,0]*a[0]+W[layers-1,1,0]*a[1])\n",
    "    #print('a value after last layer:',a)\n",
    "    return a;\n",
    "\n",
    "def error_func(y,y_hat):\n",
    "    return y*np.log(y_hat)+(1-y)*np.log(1-y_hat)\n",
    "\n",
    "def CEO(nj_list,tau,mean,sigma,layers,X,Y,rho):\n",
    "    complete_weights = np.ones((tau,1,layers,2,2))\n",
    "    error_vals=[];\n",
    "    for i in range(tau):\n",
    "        W = np.ones((nj_list[i],layers,2,2))*0.5\n",
    "        W[:,-1,:,-1] = 0\n",
    "        objective_function_list = np.zeros(nj_list[i])\n",
    "        for j in range(nj_list[i]):\n",
    "            for l in range(layers):\n",
    "                w11,w12 = np.random.normal(mean[l][0],sigma[l][0],2)\n",
    "                w21,w22 = np.random.normal(mean[l][1],sigma[l][0],2)\n",
    "                W[j][l][0] = np.array([w11,w12])\n",
    "                W[j][l][1] = np.array([w21,w22])\n",
    "            W[:,-1,:,-1] = 0\n",
    "            error = 0\n",
    "            #print(X,Y)\n",
    "            for x,y in zip(X,Y):\n",
    "                a = f(W[j],x,layers)\n",
    "                error = error + np.abs(error_func(y,a))\n",
    "            objective_function_list[j] = error\n",
    "        #print('Objective function list:',objective_function_list)\n",
    "        #complete_weights[i] = W\n",
    "        considered_indices = np.argsort(objective_function_list)\n",
    "        mean_error = np.mean(objective_function_list[considered_indices[:int(rho*nj_list[i])]])\n",
    "        error_vals.append(mean_error)\n",
    "        for l in range(layers-1):\n",
    "            mean[l] = np.mean(np.mean(W[considered_indices[:int(rho*nj_list[i])],l],0),1)#np.mean(W[considered_indices[:int(rho*nj_list[i])],l,0])\n",
    "        print(mean.shape)\n",
    "        mean[-1][0] = np.mean(W[considered_indices[:int(rho*nj_list[i])],layers-1],0)[0][0]\n",
    "        mean[-1][1] = np.mean(W[considered_indices[:int(rho*nj_list[i])],layers-1],0)[1][0]\n",
    "        \n",
    "    return mean,error_vals\n",
    "X = np.array([[1,1],[1,2]])\n",
    "y = np.array([[1],[0]])\n",
    "list_of_tau = [100,150,190,80,50,150,200,300,80,70]\n",
    "mean,error_vals = CEO(list_of_tau,len(list_of_tau),np.ones((3,2))*0.5,np.ones((3,2)),3,X,y,0.3)"
   ]
  },
  {
   "cell_type": "code",
   "execution_count": 21,
   "metadata": {},
   "outputs": [
    {
     "name": "stdout",
     "output_type": "stream",
     "text": [
      "[1.400547174577824, 1.3921123347517061, 1.3931500757308957, 1.3893725537391284, 1.3892992200531584, 1.386198606165993, 1.3852948969287258, 1.3858862317913767, 1.384546017924558, 1.381399471643682]\n"
     ]
    },
    {
     "data": {
      "text/plain": [
       "[<matplotlib.lines.Line2D at 0x228e0d18358>]"
      ]
     },
     "execution_count": 21,
     "metadata": {},
     "output_type": "execute_result"
    },
    {
     "data": {
      "image/png": "[encoded data removed]",
      "text/plain": [
       "<Figure size 432x288 with 1 Axes>"
      ]
     },
     "metadata": {
      "needs_background": "light"
     },
     "output_type": "display_data"
    }
   ],
   "source": [
    "print(error_vals)\n",
    "from matplotlib import pyplot as plt\n",
    "plt.plot(error_vals)"
   ]
  },
  {
   "cell_type": "code",
   "execution_count": null,
   "metadata": {},
   "outputs": [],
   "source": []
  }
 ],
 "metadata": {
  "kernelspec": {
   "display_name": "Python 3",
   "language": "python",
   "name": "python3"
  },
  "language_info": {
   "codemirror_mode": {
    "name": "ipython",
    "version": 3
   },
   "file_extension": ".py",
   "mimetype": "text/x-python",
   "name": "python",
   "nbconvert_exporter": "python",
   "pygments_lexer": "ipython3",
   "version": "3.6.8"
  }
 },
 "nbformat": 4,
 "nbformat_minor": 2
}
