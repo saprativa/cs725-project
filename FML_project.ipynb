{
 "cells": [
  {
   "cell_type": "code",
   "execution_count": 1,
   "metadata": {},
   "outputs": [],
   "source": [
    "import numpy as np"
   ]
  },
  {
   "cell_type": "code",
   "execution_count": 47,
   "metadata": {},
   "outputs": [],
   "source": [
    "def activation_function(Z):\n",
    "    if(Z>=0):\n",
    "        return Z;\n",
    "    else:\n",
    "        return 0;\n",
    "\n",
    "def del_activation_function(Z):\n",
    "    if(Z>0):\n",
    "        return 1\n",
    "    else:\n",
    "        return 0\n",
    "\n",
    "def delta_mean(mu,sigma,w_hat):\n",
    "    return (1/(np.sqrt(2*np.pi)*sigma))*np.exp(-(w_hat-mu)**2/(2*sigma**2))*(w_hat-mu)/sigma**2\n",
    "\n",
    "def delta_stddev(mu,sigma,w_hat):\n",
    "    return (np.sqrt(2*np.pi)/(2*np.pi*sigma**2)*np.exp(-(w_hat-mu)**2/(2*sigma**2))*((w_hat-mu)**2/(sigma**2)-1))\n",
    "\n",
    "def delta_err(y,y_hat,err_type):\n",
    "    if err_type==0:#mse error\n",
    "        return (y-y_hat);\n",
    "    elif err_type==1:#cross entropy error\n",
    "        return -y/y_hat + (1-y)/(1-y_hat);\n",
    "    else:\n",
    "        print(\"Invalid\")\n",
    "\n",
    "def forward_prop(x1,x2,w1,w2):\n",
    "    Z = w1*x1+w2*x2\n",
    "    return (Z,activation_function(Z));"
   ]
  },
  {
   "cell_type": "code",
   "execution_count": 58,
   "metadata": {},
   "outputs": [],
   "source": [
    "class backprop_prime_with_sgd:\n",
    "    def __init__(self,epochs):\n",
    "        self.nepochs = epochs\n",
    "        self.nlayers = 3\n",
    "        self.mu = np.array([[1,2],\n",
    "                  [3,4],\n",
    "                  [5,6]])\n",
    "        self.sigma = np.ones((3,2))\n",
    "        self.weights1 = np.zeros((3,2))\n",
    "        self.weights2 = np.zeros((3,2))\n",
    "        self.Z = np.zeros((3,2))\n",
    "        self.a = np.zeros((3,2))\n",
    "    \n",
    "    def backprop(self,y,y_hat,x1,x2):\n",
    "        #print('Dekh lo:',y,y_hat)\n",
    "        error = (y - y_hat)**2;\n",
    "        del_err = delta_err(y,y_hat,0)\n",
    "        print(self.Z[2,0])\n",
    "        phi_dash_Z_3_1 = del_activation_function(self.Z[2,0])\n",
    "        del_phi_dash_Z_2_1 = del_activation_function(self.Z[1,0])\n",
    "        del_phi_dash_Z_2_2 = del_activation_function(self.Z[1,1])\n",
    "        del_phi_dash_1_1 = del_activation_function(self.Z[0,0])\n",
    "        del_phi_dash_Z_1_2 = del_activation_function(self.Z[0,1])\n",
    "        print(del_err,phi_dash_Z_3_1,del_phi_dash_Z_2_1,del_phi_dash_Z_2_2,del_phi_dash_1_1,del_phi_dash_Z_1_2 )\n",
    "        #last layer\n",
    "        del_mu_3_1 = del_err*phi_dash_Z_3_1*self.a[1,0]*delta_mean(self.mu[2,0],self.sigma[2,0],np.mean(self.weights1[2,:]))\n",
    "        del_sigma_3_1 = del_err*phi_dash_Z_3_1*self.a[1,0]*delta_stddev(self.mu[2,0],self.sigma[2,0],np.mean(self.weights1[2,:]))\n",
    "        del_mu_3_2 = del_err*phi_dash_Z_3_1*self.a[1,1]*delta_mean(self.mu[2,1],self.sigma[2,1],np.mean(self.weights2[2,:]))\n",
    "        del_sigma_3_2 = del_err*phi_dash_Z_3_1*self.a[1,1]*delta_stddev(self.mu[2,1],self.sigma[2,1],np.mean(self.weights2[2,:]))\n",
    "        \n",
    "        #2nd layer\n",
    "        del_mu_2_1 = del_err*phi_dash_Z_3_1*self.a[0,0]*delta_mean(self.mu[1,0],self.sigma[1,0],np.mean(self.weights1[1,:]))*(self.weights1[2,0]*del_phi_dash_Z_2_1 + self.weights1[2,1]*del_phi_dash_Z_2_2)\n",
    "        del_sigma_2_1 = del_err*phi_dash_Z_3_1*self.a[0,0]*delta_stddev(self.mu[1,0],self.sigma[1,0],np.mean(self.weights1[1,:]))*(self.weights1[2,0]*del_phi_dash_Z_2_1 + self.weights1[2,1]*del_phi_dash_Z_2_2)\n",
    "        del_mu_2_2 = del_err*phi_dash_Z_3_1*self.a[0,1]*delta_mean(self.mu[1,1],self.sigma[1,1],np.mean(self.weights2[1,:]))*(self.weights1[2,0]*del_phi_dash_Z_2_1 + self.weights1[2,1]*del_phi_dash_Z_2_2)\n",
    "        del_sigma_2_2 = del_err*phi_dash_Z_3_1*self.a[0,1]*delta_mean(self.mu[1,1],self.sigma[1,1],np.mean(self.weights2[1,:]))*(self.weights1[2,0]*del_phi_dash_Z_2_1 + self.weights1[2,1]*del_phi_dash_Z_2_2)\n",
    "        \n",
    "        #1st layer\n",
    "        del_mu_1_1 = del_err*phi_dash_Z_3_1*(self.weights1[2,0]*del_phi_dash_Z_2_1*(self.weights1[1,0]*del_phi_dash_1_1+self.weights2[1,0]*del_phi_dash_Z_1_2)\n",
    "                                             +self.weights1[2,0]*del_phi_dash_Z_2_2*(self.weights1[1,1]*del_phi_dash_1_1+self.weights2[1,1]*del_phi_dash_Z_1_2))*x1*delta_mean(self.mu[0,0],self.sigma[0,0],np.mean(self.weights1[0,:]))\n",
    "        del_sigma_1_1 = del_err*phi_dash_Z_3_1*(self.weights1[2,0]*del_phi_dash_Z_2_1*(self.weights1[1,0]*del_phi_dash_1_1+self.weights2[1,0]*del_phi_dash_Z_1_2)\n",
    "                                             +self.weights1[2,0]*del_phi_dash_Z_2_2*(self.weights1[1,1]*del_phi_dash_1_1+self.weights2[1,1]*del_phi_dash_Z_1_2))*x1*delta_stddev(self.mu[0,0],self.sigma[0,0],np.mean(self.weights1[0,:]))\n",
    "        del_mu_1_2 = del_err*phi_dash_Z_3_1*(self.weights1[2,0]*del_phi_dash_Z_2_1*(self.weights1[1,0]*del_phi_dash_1_1+self.weights2[1,0]*del_phi_dash_Z_1_2)\n",
    "                                             +self.weights1[2,0]*del_phi_dash_Z_2_2*(self.weights1[1,1]*del_phi_dash_1_1+self.weights2[1,1]*del_phi_dash_Z_1_2))*x2*delta_mean(self.mu[0,1],self.sigma[0,1],np.mean(self.weights2[0,:]))\n",
    "        del_sigma_1_2 = del_err*phi_dash_Z_3_1*(self.weights1[2,0]*del_phi_dash_Z_2_1*(self.weights1[1,0]*del_phi_dash_1_1+self.weights2[1,0]*del_phi_dash_Z_1_2)\n",
    "                                             +self.weights1[2,0]*del_phi_dash_Z_2_2*(self.weights1[1,1]*del_phi_dash_1_1+self.weights2[1,1]*del_phi_dash_Z_1_2))*x2*delta_stddev(self.mu[0,1],self.sigma[0,1],np.mean(self.weights2[0,:]))\n",
    "        #print(del_mu_1_1,del_sigma_1_1,del_mu_1_2,del_sigma_1_2,del_mu_2_1,del_sigma_2_1,del_mu_2_2,del_sigma_2_2,del_mu_3_1,del_sigma_3_1,del_mu_3_2,del_sigma_3_2)\n",
    "        return (del_mu_1_1,del_sigma_1_1,del_mu_1_2,del_sigma_1_2,del_mu_2_1,del_sigma_2_1,del_mu_2_2,del_sigma_2_2,del_mu_3_1,del_sigma_3_1,del_mu_3_2,del_sigma_3_2)\n",
    "    ###############################\n",
    "    def make_model(self,x1,x2,y):\n",
    "        a1,a2 = x1,x2\n",
    "        for layer in range(self.nlayers-1):\n",
    "            #print('Shapes',self.mu.shape,self.sigma.shape)\n",
    "            w11,w12 = np.random.normal(self.mu[layer,0],self.sigma[layer,0],2)\n",
    "            w21,w22 =  np.random.normal(self.mu[layer,1],self.sigma[layer,1],2)\n",
    "            \n",
    "            self.weights1[layer,0],self.weights1[layer,1] = w11,w12\n",
    "            self.weights2[layer,0],self.weights2[layer,1] = w21,w22\n",
    "            #print(\"Values sent for forward prop:\",a1,a2,w11,w21,self.weights1[0,0],self.weights2[0,0])\n",
    "            Z1,a1_new = forward_prop(a1,a2,w11,w21)\n",
    "            #print(\"weighted_values:\",Z1,a1_new)\n",
    "            self.Z[layer,0] = Z1\n",
    "            self.a[layer,0] = a1_new\n",
    "            \n",
    "            Z2,a2_new = forward_prop(a1,a2,w12,w22)\n",
    "            \n",
    "            self.Z[layer,1] = Z2\n",
    "            self.a[layer,1] = a2_new\n",
    "            \n",
    "            a1 = a1_new\n",
    "            a2 = a2_new\n",
    "        self.last_weights = np.array([np.random.normal(self.mu[-1,0],self.sigma[-1,0]),np.random.normal(self.mu[-1,1],self.sigma[-1,1])])\n",
    "        Z3,a3_new = forward_prop(a1,a2,self.last_weights[0],self.last_weights[1])\n",
    "        self.Z[self.nlayers-1,0] = Z3\n",
    "        self.a[self.nlayers-1,0] = a3_new\n",
    "        return Z3,a3_new\n",
    "    def fit_model(self,X,y):\n",
    "        for epoch in range(self.nepochs):\n",
    "            for i in range(len(y)):\n",
    "                #print('Mu and sigma:',self.mu,self.sigma)\n",
    "                #print(\"values of x:\",X[i][0],X[i][1])\n",
    "                Z,a = self.make_model(X[i][0],X[i][1],y[i])\n",
    "                del_mu_1_1,del_sigma_1_1,del_mu_1_2,del_sigma_1_2,del_mu_2_1,del_sigma_2_1,del_mu_2_2,del_sigma_2_2,del_mu_3_1,del_sigma_3_1,del_mu_3_2,del_sigma_3_2 = self.backprop(y[i],a,X[i][0],X[i][1])\n",
    "                #print('Returned vals:',del_mu_1_1,del_sigma_1_1,del_mu_1_2,del_sigma_1_2,del_mu_2_1,del_sigma_2_1,del_mu_2_2,del_sigma_2_2,del_mu_3_1,del_sigma_3_1,del_mu_3_2,del_sigma_3_2)\n",
    "                self.mu[0,0] = self.mu[0,0] - del_mu_1_1\n",
    "                self.sigma[0,0] = self.sigma[0,0] - del_sigma_1_1\n",
    "                self.mu[0,1] = self.mu[0,1] - del_mu_1_2\n",
    "                self.sigma[0,1] = self.sigma[0,1] - del_sigma_2_1\n",
    "                self.mu[1,0] = self.mu[1,0] - del_mu_2_1\n",
    "                self.sigma[1,0] = self.sigma[1,0] - del_sigma_2_1\n",
    "                self.mu[1,1] = self.mu[1,1] - del_mu_2_2\n",
    "                self.sigma[1,1] = self.sigma[1,1] - del_sigma_2_2\n",
    "                self.mu[2,0] = self.mu[2,0] - del_mu_3_1\n",
    "                self.sigma[2,0] = self.sigma[2,0] - del_sigma_3_1\n",
    "                self.mu[2,1] = self.mu[2,1] - del_mu_3_2\n",
    "                self.sigma[2,1] = self.sigma[2,1] - del_sigma_3_2\n",
    "                '''self.sigma = self.sigma - np.array([[del_sigma_1_1,del_sigma_1_2],\n",
    "                                                   [del_sigma_2_1,del_sigma_2_2],\n",
    "                                                   [del_sigma_3_1,del_sigma_3_2]])'''\n",
    "                #print(Z,a)"
   ]
  },
  {
   "cell_type": "code",
   "execution_count": 59,
   "metadata": {},
   "outputs": [
    {
     "name": "stdout",
     "output_type": "stream",
     "text": [
      "201.843701416506\n",
      "[-201.84370142] 1 1 1 1 1\n",
      "102.1785311347613\n",
      "[-101.17853113] 1 1 1 1 1\n",
      "40.38391479616756\n",
      "[-40.3839148] 1 1 1 1 1\n",
      "56.06637965925897\n",
      "[-55.06637966] 1 1 1 1 1\n",
      "22.815484586207067\n",
      "[-22.81548459] 1 1 1 1 0\n",
      "-335.50678903516115\n",
      "[1] 0 1 1 1 1\n",
      "337.8904133909571\n",
      "[-337.89041339] 1 1 1 1 1\n"
     ]
    },
    {
     "ename": "ValueError",
     "evalue": "scale < 0",
     "output_type": "error",
     "traceback": [
      "\u001b[1;31m---------------------------------------------------------------------------\u001b[0m",
      "\u001b[1;31mValueError\u001b[0m                                Traceback (most recent call last)",
      "\u001b[1;32m<ipython-input-59-479dc0511d64>\u001b[0m in \u001b[0;36m<module>\u001b[1;34m\u001b[0m\n\u001b[0;32m      2\u001b[0m \u001b[0my\u001b[0m \u001b[1;33m=\u001b[0m \u001b[0mnp\u001b[0m\u001b[1;33m.\u001b[0m\u001b[0marray\u001b[0m\u001b[1;33m(\u001b[0m\u001b[1;33m[\u001b[0m\u001b[1;33m[\u001b[0m\u001b[1;36m0\u001b[0m\u001b[1;33m]\u001b[0m\u001b[1;33m,\u001b[0m\u001b[1;33m[\u001b[0m\u001b[1;36m1\u001b[0m\u001b[1;33m]\u001b[0m\u001b[1;33m]\u001b[0m\u001b[1;33m)\u001b[0m\u001b[1;33m;\u001b[0m\u001b[1;33m\u001b[0m\u001b[1;33m\u001b[0m\u001b[0m\n\u001b[0;32m      3\u001b[0m \u001b[0mb\u001b[0m \u001b[1;33m=\u001b[0m \u001b[0mbackprop_prime_with_sgd\u001b[0m\u001b[1;33m(\u001b[0m\u001b[1;36m10\u001b[0m\u001b[1;33m)\u001b[0m\u001b[1;33m\u001b[0m\u001b[1;33m\u001b[0m\u001b[0m\n\u001b[1;32m----> 4\u001b[1;33m \u001b[0mb\u001b[0m\u001b[1;33m.\u001b[0m\u001b[0mfit_model\u001b[0m\u001b[1;33m(\u001b[0m\u001b[0mX\u001b[0m\u001b[1;33m,\u001b[0m\u001b[0my\u001b[0m\u001b[1;33m)\u001b[0m\u001b[1;33m\u001b[0m\u001b[1;33m\u001b[0m\u001b[0m\n\u001b[0m",
      "\u001b[1;32m<ipython-input-58-4a5b5ae1eee2>\u001b[0m in \u001b[0;36mfit_model\u001b[1;34m(self, X, y)\u001b[0m\n\u001b[0;32m     79\u001b[0m                 \u001b[1;31m#print('Mu and sigma:',self.mu,self.sigma)\u001b[0m\u001b[1;33m\u001b[0m\u001b[1;33m\u001b[0m\u001b[1;33m\u001b[0m\u001b[0m\n\u001b[0;32m     80\u001b[0m                 \u001b[1;31m#print(\"values of x:\",X[i][0],X[i][1])\u001b[0m\u001b[1;33m\u001b[0m\u001b[1;33m\u001b[0m\u001b[1;33m\u001b[0m\u001b[0m\n\u001b[1;32m---> 81\u001b[1;33m                 \u001b[0mZ\u001b[0m\u001b[1;33m,\u001b[0m\u001b[0ma\u001b[0m \u001b[1;33m=\u001b[0m \u001b[0mself\u001b[0m\u001b[1;33m.\u001b[0m\u001b[0mmake_model\u001b[0m\u001b[1;33m(\u001b[0m\u001b[0mX\u001b[0m\u001b[1;33m[\u001b[0m\u001b[0mi\u001b[0m\u001b[1;33m]\u001b[0m\u001b[1;33m[\u001b[0m\u001b[1;36m0\u001b[0m\u001b[1;33m]\u001b[0m\u001b[1;33m,\u001b[0m\u001b[0mX\u001b[0m\u001b[1;33m[\u001b[0m\u001b[0mi\u001b[0m\u001b[1;33m]\u001b[0m\u001b[1;33m[\u001b[0m\u001b[1;36m1\u001b[0m\u001b[1;33m]\u001b[0m\u001b[1;33m,\u001b[0m\u001b[0my\u001b[0m\u001b[1;33m[\u001b[0m\u001b[0mi\u001b[0m\u001b[1;33m]\u001b[0m\u001b[1;33m)\u001b[0m\u001b[1;33m\u001b[0m\u001b[1;33m\u001b[0m\u001b[0m\n\u001b[0m\u001b[0;32m     82\u001b[0m                 \u001b[0mdel_mu_1_1\u001b[0m\u001b[1;33m,\u001b[0m\u001b[0mdel_sigma_1_1\u001b[0m\u001b[1;33m,\u001b[0m\u001b[0mdel_mu_1_2\u001b[0m\u001b[1;33m,\u001b[0m\u001b[0mdel_sigma_1_2\u001b[0m\u001b[1;33m,\u001b[0m\u001b[0mdel_mu_2_1\u001b[0m\u001b[1;33m,\u001b[0m\u001b[0mdel_sigma_2_1\u001b[0m\u001b[1;33m,\u001b[0m\u001b[0mdel_mu_2_2\u001b[0m\u001b[1;33m,\u001b[0m\u001b[0mdel_sigma_2_2\u001b[0m\u001b[1;33m,\u001b[0m\u001b[0mdel_mu_3_1\u001b[0m\u001b[1;33m,\u001b[0m\u001b[0mdel_sigma_3_1\u001b[0m\u001b[1;33m,\u001b[0m\u001b[0mdel_mu_3_2\u001b[0m\u001b[1;33m,\u001b[0m\u001b[0mdel_sigma_3_2\u001b[0m \u001b[1;33m=\u001b[0m \u001b[0mself\u001b[0m\u001b[1;33m.\u001b[0m\u001b[0mbackprop\u001b[0m\u001b[1;33m(\u001b[0m\u001b[0my\u001b[0m\u001b[1;33m[\u001b[0m\u001b[0mi\u001b[0m\u001b[1;33m]\u001b[0m\u001b[1;33m,\u001b[0m\u001b[0ma\u001b[0m\u001b[1;33m,\u001b[0m\u001b[0mX\u001b[0m\u001b[1;33m[\u001b[0m\u001b[0mi\u001b[0m\u001b[1;33m]\u001b[0m\u001b[1;33m[\u001b[0m\u001b[1;36m0\u001b[0m\u001b[1;33m]\u001b[0m\u001b[1;33m,\u001b[0m\u001b[0mX\u001b[0m\u001b[1;33m[\u001b[0m\u001b[0mi\u001b[0m\u001b[1;33m]\u001b[0m\u001b[1;33m[\u001b[0m\u001b[1;36m1\u001b[0m\u001b[1;33m]\u001b[0m\u001b[1;33m)\u001b[0m\u001b[1;33m\u001b[0m\u001b[1;33m\u001b[0m\u001b[0m\n\u001b[0;32m     83\u001b[0m                 \u001b[1;31m#print('Returned vals:',del_mu_1_1,del_sigma_1_1,del_mu_1_2,del_sigma_1_2,del_mu_2_1,del_sigma_2_1,del_mu_2_2,del_sigma_2_2,del_mu_3_1,del_sigma_3_1,del_mu_3_2,del_sigma_3_2)\u001b[0m\u001b[1;33m\u001b[0m\u001b[1;33m\u001b[0m\u001b[1;33m\u001b[0m\u001b[0m\n",
      "\u001b[1;32m<ipython-input-58-4a5b5ae1eee2>\u001b[0m in \u001b[0;36mmake_model\u001b[1;34m(self, x1, x2, y)\u001b[0m\n\u001b[0;32m     69\u001b[0m             \u001b[0ma1\u001b[0m \u001b[1;33m=\u001b[0m \u001b[0ma1_new\u001b[0m\u001b[1;33m\u001b[0m\u001b[1;33m\u001b[0m\u001b[0m\n\u001b[0;32m     70\u001b[0m             \u001b[0ma2\u001b[0m \u001b[1;33m=\u001b[0m \u001b[0ma2_new\u001b[0m\u001b[1;33m\u001b[0m\u001b[1;33m\u001b[0m\u001b[0m\n\u001b[1;32m---> 71\u001b[1;33m         \u001b[0mself\u001b[0m\u001b[1;33m.\u001b[0m\u001b[0mlast_weights\u001b[0m \u001b[1;33m=\u001b[0m \u001b[0mnp\u001b[0m\u001b[1;33m.\u001b[0m\u001b[0marray\u001b[0m\u001b[1;33m(\u001b[0m\u001b[1;33m[\u001b[0m\u001b[0mnp\u001b[0m\u001b[1;33m.\u001b[0m\u001b[0mrandom\u001b[0m\u001b[1;33m.\u001b[0m\u001b[0mnormal\u001b[0m\u001b[1;33m(\u001b[0m\u001b[0mself\u001b[0m\u001b[1;33m.\u001b[0m\u001b[0mmu\u001b[0m\u001b[1;33m[\u001b[0m\u001b[1;33m-\u001b[0m\u001b[1;36m1\u001b[0m\u001b[1;33m,\u001b[0m\u001b[1;36m0\u001b[0m\u001b[1;33m]\u001b[0m\u001b[1;33m,\u001b[0m\u001b[0mself\u001b[0m\u001b[1;33m.\u001b[0m\u001b[0msigma\u001b[0m\u001b[1;33m[\u001b[0m\u001b[1;33m-\u001b[0m\u001b[1;36m1\u001b[0m\u001b[1;33m,\u001b[0m\u001b[1;36m0\u001b[0m\u001b[1;33m]\u001b[0m\u001b[1;33m)\u001b[0m\u001b[1;33m,\u001b[0m\u001b[0mnp\u001b[0m\u001b[1;33m.\u001b[0m\u001b[0mrandom\u001b[0m\u001b[1;33m.\u001b[0m\u001b[0mnormal\u001b[0m\u001b[1;33m(\u001b[0m\u001b[0mself\u001b[0m\u001b[1;33m.\u001b[0m\u001b[0mmu\u001b[0m\u001b[1;33m[\u001b[0m\u001b[1;33m-\u001b[0m\u001b[1;36m1\u001b[0m\u001b[1;33m,\u001b[0m\u001b[1;36m1\u001b[0m\u001b[1;33m]\u001b[0m\u001b[1;33m,\u001b[0m\u001b[0mself\u001b[0m\u001b[1;33m.\u001b[0m\u001b[0msigma\u001b[0m\u001b[1;33m[\u001b[0m\u001b[1;33m-\u001b[0m\u001b[1;36m1\u001b[0m\u001b[1;33m,\u001b[0m\u001b[1;36m1\u001b[0m\u001b[1;33m]\u001b[0m\u001b[1;33m)\u001b[0m\u001b[1;33m]\u001b[0m\u001b[1;33m)\u001b[0m\u001b[1;33m\u001b[0m\u001b[1;33m\u001b[0m\u001b[0m\n\u001b[0m\u001b[0;32m     72\u001b[0m         \u001b[0mZ3\u001b[0m\u001b[1;33m,\u001b[0m\u001b[0ma3_new\u001b[0m \u001b[1;33m=\u001b[0m \u001b[0mforward_prop\u001b[0m\u001b[1;33m(\u001b[0m\u001b[0ma1\u001b[0m\u001b[1;33m,\u001b[0m\u001b[0ma2\u001b[0m\u001b[1;33m,\u001b[0m\u001b[0mself\u001b[0m\u001b[1;33m.\u001b[0m\u001b[0mlast_weights\u001b[0m\u001b[1;33m[\u001b[0m\u001b[1;36m0\u001b[0m\u001b[1;33m]\u001b[0m\u001b[1;33m,\u001b[0m\u001b[0mself\u001b[0m\u001b[1;33m.\u001b[0m\u001b[0mlast_weights\u001b[0m\u001b[1;33m[\u001b[0m\u001b[1;36m1\u001b[0m\u001b[1;33m]\u001b[0m\u001b[1;33m)\u001b[0m\u001b[1;33m\u001b[0m\u001b[1;33m\u001b[0m\u001b[0m\n\u001b[0;32m     73\u001b[0m         \u001b[0mself\u001b[0m\u001b[1;33m.\u001b[0m\u001b[0mZ\u001b[0m\u001b[1;33m[\u001b[0m\u001b[0mself\u001b[0m\u001b[1;33m.\u001b[0m\u001b[0mnlayers\u001b[0m\u001b[1;33m-\u001b[0m\u001b[1;36m1\u001b[0m\u001b[1;33m,\u001b[0m\u001b[1;36m0\u001b[0m\u001b[1;33m]\u001b[0m \u001b[1;33m=\u001b[0m \u001b[0mZ3\u001b[0m\u001b[1;33m\u001b[0m\u001b[1;33m\u001b[0m\u001b[0m\n",
      "\u001b[1;32mmtrand.pyx\u001b[0m in \u001b[0;36mnumpy.random.mtrand.RandomState.normal\u001b[1;34m()\u001b[0m\n",
      "\u001b[1;32m_common.pyx\u001b[0m in \u001b[0;36mnumpy.random._common.cont\u001b[1;34m()\u001b[0m\n",
      "\u001b[1;32m_common.pyx\u001b[0m in \u001b[0;36mnumpy.random._common.check_constraint\u001b[1;34m()\u001b[0m\n",
      "\u001b[1;31mValueError\u001b[0m: scale < 0"
     ]
    }
   ],
   "source": [
    "X = np.array([[0.7,0.3],[0.33,0.67]])\n",
    "y = np.array([[0],[1]]);\n",
    "b = backprop_prime_with_sgd(10)\n",
    "b.fit_model(X,y)"
   ]
  },
  {
   "cell_type": "code",
   "execution_count": 53,
   "metadata": {},
   "outputs": [
    {
     "data": {
      "text/plain": [
       "array([[ 0.93550081, -0.62601211],\n",
       "       [ 3.31166944,  2.74883608],\n",
       "       [ 0.        ,  0.        ]])"
      ]
     },
     "execution_count": 53,
     "metadata": {},
     "output_type": "execute_result"
    }
   ],
   "source": [
    "b.weights1"
   ]
  },
  {
   "cell_type": "code",
   "execution_count": 54,
   "metadata": {},
   "outputs": [
    {
     "data": {
      "text/plain": [
       "array([[1.89899056, 2.49810863],\n",
       "       [3.36370588, 3.89234963],\n",
       "       [0.        , 0.        ]])"
      ]
     },
     "execution_count": 54,
     "metadata": {},
     "output_type": "execute_result"
    }
   ],
   "source": [
    "b.weights2"
   ]
  },
  {
   "cell_type": "code",
   "execution_count": 55,
   "metadata": {},
   "outputs": [
    {
     "data": {
      "text/plain": [
       "array([[ 1.22454773,  0.31122411],\n",
       "       [ 5.10216369,  4.57747405],\n",
       "       [46.93178532,  0.        ]])"
      ]
     },
     "execution_count": 55,
     "metadata": {},
     "output_type": "execute_result"
    }
   ],
   "source": [
    "b.a"
   ]
  },
  {
   "cell_type": "code",
   "execution_count": 56,
   "metadata": {},
   "outputs": [
    {
     "data": {
      "text/plain": [
       "array([[ 1.22454773,  0.31122411],\n",
       "       [ 5.10216369,  4.57747405],\n",
       "       [46.93178532,  0.        ]])"
      ]
     },
     "execution_count": 56,
     "metadata": {},
     "output_type": "execute_result"
    }
   ],
   "source": [
    "b.Z"
   ]
  },
  {
   "cell_type": "code",
   "execution_count": 57,
   "metadata": {},
   "outputs": [
    {
     "data": {
      "text/plain": [
       "array([2.22664065, 3.85613376])"
      ]
     },
     "execution_count": 57,
     "metadata": {},
     "output_type": "execute_result"
    }
   ],
   "source": [
    "b.last_weights"
   ]
  },
  {
   "cell_type": "code",
   "execution_count": 57,
   "metadata": {},
   "outputs": [
    {
     "data": {
      "text/plain": [
       "(1.1923809912512042, 1.1923809912512042)"
      ]
     },
     "execution_count": 57,
     "metadata": {},
     "output_type": "execute_result"
    }
   ],
   "source": [
    "forward_prop(X[0][0],X[0][1],b.weights1[0][0],b.weights2[0][0])"
   ]
  },
  {
   "cell_type": "code",
   "execution_count": null,
   "metadata": {},
   "outputs": [],
   "source": [
    "def make_model(self,x1,x2,y):\n",
    "        a1,a2 = x1,x2\n",
    "        for layer in range(self.nlayers-1):\n",
    "            w11,w12 = np.random.normal(self.mu[layer,0],self.sigma[layer,0],2)\n",
    "            w21,w22 =  np.random.normal(self.mu[layer,1],self.sigma[layer,1],2)\n",
    "            \n",
    "            self.weights1[layer,0],self.weights1[layer,1] = w11,w12\n",
    "            self.weights2[layer,0],self.weights2[layer,1] = w21,w22\n",
    "            \n",
    "            Z1,a1_new = forward_prop(a1,a2,w11,w21)\n",
    "            print(\"weighted_values:\",Z1,a1_new)\n",
    "            self.Z[layer,0] = Z1\n",
    "            self.a[layer,0] = a1_new\n",
    "            \n",
    "            Z2,a2_new = forward_prop(a1,a2,w12,w22)\n",
    "            \n",
    "            self.Z[layer,1] = Z2\n",
    "            self.a[layer,1] = a2_new\n",
    "            \n",
    "            a1 = a1_new\n",
    "            a2 = a2_new\n",
    "        self.last_weights = np.array([np.random.normal(self.mu[-1,0],self.sigma[-1,0]),np.random.normal(self.mu[-1,1],self.sigma[-1,1])])\n",
    "        return forward_prop(a1,a2,self.last_weights[0],self.last_weights[1])"
   ]
  }
 ],
 "metadata": {
  "kernelspec": {
   "display_name": "Python 3",
   "language": "python",
   "name": "python3"
  },
  "language_info": {
   "codemirror_mode": {
    "name": "ipython",
    "version": 3
   },
   "file_extension": ".py",
   "mimetype": "text/x-python",
   "name": "python",
   "nbconvert_exporter": "python",
   "pygments_lexer": "ipython3",
   "version": "3.6.8"
  }
 },
 "nbformat": 4,
 "nbformat_minor": 2
}
